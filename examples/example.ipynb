{
 "cells": [
  {
   "cell_type": "markdown",
   "metadata": {
    "deletable": true,
    "editable": true
   },
   "source": [
    "## Advanced Lane Finding Project\n",
    "\n",
    "The goals / steps of this project are the following:\n",
    "\n",
    "* Compute the camera calibration matrix and distortion coefficients given a set of chessboard images.\n",
    "* Apply a distortion correction to raw images.\n",
    "* Use color transforms, gradients, etc., to create a thresholded binary image.\n",
    "* Apply a perspective transform to rectify binary image (\"birds-eye view\").\n",
    "* Detect lane pixels and fit to find the lane boundary.\n",
    "* Determine the curvature of the lane and vehicle position with respect to center.\n",
    "* Warp the detected lane boundaries back onto the original image.\n",
    "* Output visual display of the lane boundaries and numerical estimation of lane curvature and vehicle position.\n",
    "\n",
    "---\n",
    "## First, I'll compute the camera calibration using chessboard images"
   ]
  },
  {
   "cell_type": "code",
   "execution_count": null,
   "metadata": {
    "collapsed": false,
    "deletable": true,
    "editable": true
   },
   "outputs": [],
   "source": [
    "from ipywidgets import interact, interactive, fixed\n",
    "from IPython.core.display import display, HTML\n",
    "display(HTML(\"<style>.container { width:100% !important; }</style>\"))\n",
    "\n"
   ]
  },
  {
   "cell_type": "code",
   "execution_count": null,
   "metadata": {
    "collapsed": false,
    "deletable": true,
    "editable": true,
    "scrolled": false
   },
   "outputs": [],
   "source": [
    "import numpy as np\n",
    "import os.path\n",
    "import cv2\n",
    "import glob\n",
    "import pickle\n",
    "import matplotlib.pyplot as plt\n",
    "import matplotlib.image as mpimg\n",
    "\n",
    "DISTORT_P = 'distort.p'\n",
    "\n",
    "is_show_calibration_result = False\n",
    "\n",
    "# Make a list of calibration images\n",
    "images = glob.glob('../camera_cal/calibration*.jpg')\n",
    "\n",
    "if not os.path.isfile(DISTORT_P):\n",
    "    # prepare object points, like (0,0,0), (1,0,0), (2,0,0) ....,(6,5,0)\n",
    "    objp = np.zeros((6*9,3), np.float32)\n",
    "    objp[:,:2] = np.mgrid[0:9,0:6].T.reshape(-1,2)\n",
    "\n",
    "    # Arrays to store object points and image points from all the images.\n",
    "    objpoints = [] # 3d points in real world space\n",
    "    imgpoints = [] # 2d points in image plane.\n",
    "\n",
    "    # Step through the list and search for chessboard corners\n",
    "    for fname in images:\n",
    "        img = cv2.imread(fname)\n",
    "        gray = cv2.cvtColor(img,cv2.COLOR_BGR2GRAY)\n",
    "\n",
    "        # Find the chessboard corners\n",
    "        ret, corners = cv2.findChessboardCorners(gray, (9,6),None)\n",
    "\n",
    "        # If found, add object points, image points\n",
    "        if ret == True:\n",
    "            objpoints.append(objp)\n",
    "            imgpoints.append(corners)\n",
    "\n",
    "    ret, mtx, dist, rvecs, tvecs = cv2.calibrateCamera(objpoints, imgpoints, gray.shape[::-1],None,None)\n",
    "\n",
    "    data = {'mtx': mtx,\n",
    "            'dist': dist}\n",
    "\n",
    "    with open(DISTORT_P, 'wb') as output:\n",
    "        pickle.dump(data, output)\n",
    "else:\n",
    "    dist_pickle = pickle.load(open(DISTORT_P, \"rb\"))\n",
    "    mtx = dist_pickle[\"mtx\"]\n",
    "    dist = dist_pickle[\"dist\"]\n",
    "\n",
    "if is_show_calibration_result:\n",
    "    for fname in images:\n",
    "        img = mpimg.imread(fname)\n",
    "\n",
    "        dst = cv2.undistort(img, mtx, dist, None, mtx)\n",
    "\n",
    "        fig = plt.figure(figsize=(16, 12))\n",
    "        plt.subplot(121)\n",
    "        plt.imshow(img)\n",
    "        plt.title('Before')\n",
    "        plt.axis('off')\n",
    "        plt.subplot(122)\n",
    "        plt.imshow(dst)\n",
    "        plt.title('After')\n",
    "        plt.axis('off')\n",
    "        fig.tight_layout()\n",
    "        plt.show()"
   ]
  },
  {
   "cell_type": "code",
   "execution_count": null,
   "metadata": {
    "collapsed": false,
    "deletable": true,
    "editable": true,
    "scrolled": false
   },
   "outputs": [],
   "source": [
    "mid = 1280/2\n",
    "t1, b1 = 450, 700\n",
    "t_tw = 90\n",
    "t_bw = 820\n",
    "t2, b2 = 10, 720\n",
    "tw = 400\n",
    "\n",
    "src = np.float32([[mid-t_tw, t1], [mid+t_tw, t1], [mid-t_bw, b1], [mid+t_bw, b1]])\n",
    "dst = np.float32([[mid-tw, t2], [mid+tw, t2], [mid-tw, b2], [mid+tw, b2]])\n",
    "\n",
    "M = cv2.getPerspectiveTransform(src, dst)\n",
    "\n",
    "images = glob.glob('../test_images/*.jpg')\n",
    "for fname in images:\n",
    "    img = mpimg.imread(fname)\n",
    "\n",
    "    undist = cv2.undistort(img, mtx, dist, None, mtx)\n",
    "\n",
    "    warped = cv2.warpPerspective(img, M, (img.shape[1], img.shape[0]), flags=cv2.INTER_LINEAR)\n",
    "    \n",
    "    fig = plt.figure(figsize=(20, 12))\n",
    "    plt.subplot(121)\n",
    "    plt.imshow(undist)\n",
    "    \n",
    "    plt.plot(640, 420, 'o', mew=1)\n",
    "    \n",
    "    plt.plot(mid-t_tw, t1, '^', mew=2)\n",
    "    plt.plot(mid+t_tw, t1, 'v', mew=2)\n",
    "    plt.plot(mid-t_bw, b1, 'x', mew=2)\n",
    "    plt.plot(mid+t_bw, b1, 's', mew=2)\n",
    "\n",
    "    plt.plot(mid-tw, t2, '^', mew=4)\n",
    "    plt.plot(mid+tw, t2, 'v', mew=4)\n",
    "    plt.plot(mid-tw, b2, 'x', mew=4)\n",
    "    plt.plot(mid+tw, b2, 's', mew=4)\n",
    "    \n",
    "    plt.title('Before('+fname+')')\n",
    "    plt.subplot(122)\n",
    "    plt.imshow(warped)\n",
    "    plt.title('Perspective transform')\n",
    "    plt.axis('off')\n",
    "    fig.tight_layout()\n",
    "    plt.show()"
   ]
  },
  {
   "cell_type": "markdown",
   "metadata": {
    "deletable": true,
    "editable": true
   },
   "source": [
    "## Use color transforms, gradients, etc., to create a thresholded binary image\n",
    "\n",
    "1. Color space (Gray, HLS, YUV, HSV)\n",
    "2. Sobel\n",
    "3. Magnitude of the Gradient\n"
   ]
  },
  {
   "cell_type": "code",
   "execution_count": null,
   "metadata": {
    "collapsed": false,
    "deletable": true,
    "editable": true
   },
   "outputs": [],
   "source": [
    "img = cv2.imread('../test_images/test5.jpg')"
   ]
  },
  {
   "cell_type": "code",
   "execution_count": null,
   "metadata": {
    "collapsed": true,
    "deletable": true,
    "editable": true
   },
   "outputs": [],
   "source": [
    "hls = cv2.cvtColor(img, cv2.COLOR_BGR2HLS)\n",
    "hsv = cv2.cvtColor(img, cv2.COLOR_BGR2HSV)\n",
    "gray = cv2.cvtColor(img, cv2.COLOR_BGR2GRAY)"
   ]
  },
  {
   "cell_type": "code",
   "execution_count": null,
   "metadata": {
    "collapsed": false,
    "deletable": true,
    "editable": true
   },
   "outputs": [],
   "source": [
    "S = hls[:, :, 2]\n",
    "\n",
    "# thresh = (90, 255)\n",
    "# channel = np.zeros_like(S)\n",
    "# channel[(S > thresh[0]) & (S <= thresh[1])] = 1\n",
    "def u2(t_min=0, t_max=255):\n",
    "    channel = np.zeros_like(S)\n",
    "    channel[(S > t_min) & (S <= t_max)] = 1\n",
    "    plt.figure(figsize=(16, 12))\n",
    "    plt.imshow(channel, cmap='gray')\n",
    "    plt.show()\n",
    "\n",
    "interact(u2, t_min=(0, 255), t_max=(0,255))"
   ]
  },
  {
   "cell_type": "code",
   "execution_count": null,
   "metadata": {
    "collapsed": false,
    "deletable": true,
    "editable": true
   },
   "outputs": [],
   "source": [
    "# Define a function that takes an image, gradient orientation,\n",
    "# and threshold min / max values.\n",
    "def abs_sobel_thresh(channel, orient='x', sobel_kernel=3, abs_sobel_thresh_min=0, abs_sobel_thresh_max=255):\n",
    "    # Convert to grayscale\n",
    "#     gray = cv2.cvtColor(img, cv2.COLOR_RGB2GRAY)\n",
    "    # Apply x or y gradient with the OpenCV Sobel() function\n",
    "    # and take the absolute value\n",
    "    if orient == 'x':\n",
    "        abs_sobel = np.absolute(cv2.Sobel(channel, cv2.CV_64F, 1, 0))\n",
    "    if orient == 'y':\n",
    "        abs_sobel = np.absolute(cv2.Sobel(channel, cv2.CV_64F, 0, 1))\n",
    "\n",
    "    # Rescale back to 8 bit integer\n",
    "    scaled_sobel = np.uint8(255*abs_sobel/np.max(abs_sobel))\n",
    "\n",
    "    # Create a copy and apply the threshold\n",
    "    binary_output = np.zeros_like(scaled_sobel)\n",
    "    # Here I'm using inclusive (>=, <=) thresholds, but exclusive is ok too\n",
    "    binary_output[(scaled_sobel >= abs_sobel_thresh_min) & (scaled_sobel <= abs_sobel_thresh_max)] = 1\n",
    "\n",
    "    # Return the result\n",
    "    return binary_output"
   ]
  },
  {
   "cell_type": "code",
   "execution_count": null,
   "metadata": {
    "collapsed": false,
    "deletable": true,
    "editable": true
   },
   "outputs": [],
   "source": [
    "# Define a function to return the magnitude of the gradient\n",
    "# for a given sobel kernel size and threshold values\n",
    "def mag_thresh(channel, sobel_kernel=3, mag_thresh_min=0, mag_thresh_max=255):\n",
    "    # Convert to grayscale\n",
    "#     gray = cv2.cvtColor(img, cv2.COLOR_RGB2GRAY)\n",
    "    # Take both Sobel x and y gradients\n",
    "    sobelx = cv2.Sobel(channel, cv2.CV_64F, 1, 0, ksize=sobel_kernel)\n",
    "    sobely = cv2.Sobel(channel, cv2.CV_64F, 0, 1, ksize=sobel_kernel)\n",
    "    # Calculate the gradient magnitude\n",
    "    gradmag = np.sqrt(sobelx**2 + sobely**2)\n",
    "    # Rescale to 8 bit\n",
    "    scale_factor = np.max(gradmag)/255 \n",
    "    gradmag = (gradmag/scale_factor).astype(np.uint8) \n",
    "    # Create a binary image of ones where threshold is met, zeros otherwise\n",
    "    binary_output = np.zeros_like(gradmag)\n",
    "    binary_output[(gradmag >= mag_thresh_min) & (gradmag <= mag_thresh_max)] = 1\n",
    "\n",
    "    # Return the binary image\n",
    "    return binary_output"
   ]
  },
  {
   "cell_type": "code",
   "execution_count": null,
   "metadata": {
    "collapsed": true,
    "deletable": true,
    "editable": true
   },
   "outputs": [],
   "source": [
    "# Define a function to threshold an image for a given range and Sobel kernel\n",
    "def dir_threshold(channel, sobel_kernel=3, dir_thresh_min=0, dir_thresh_max=np.pi/2):\n",
    "    # Grayscale\n",
    "#     gray = cv2.cvtColor(img, cv2.COLOR_RGB2GRAY)\n",
    "    # Calculate the x and y gradients\n",
    "    sobelx = cv2.Sobel(channel, cv2.CV_64F, 1, 0, ksize=sobel_kernel)\n",
    "    sobely = cv2.Sobel(channel, cv2.CV_64F, 0, 1, ksize=sobel_kernel)\n",
    "    # Take the absolute value of the gradient direction, \n",
    "    # apply a threshold, and create a binary image result\n",
    "    absgraddir = np.arctan2(np.absolute(sobely), np.absolute(sobelx))\n",
    "    binary_output =  np.zeros_like(absgraddir)\n",
    "    binary_output[(absgraddir >= dir_thresh_min) & (absgraddir <= dir_thresh_max)] = 1\n",
    "\n",
    "    # Return the binary image\n",
    "    return binary_output"
   ]
  },
  {
   "cell_type": "code",
   "execution_count": null,
   "metadata": {
    "collapsed": false
   },
   "outputs": [],
   "source": [
    "fig=plt.figure(figsize=(24, 12))\n",
    "plt.subplot(121)\n",
    "plt.imshow(img)\n",
    "plt.subplot(122)\n",
    "plt.imshow(channel, cmap='gray')\n",
    "fig.tight_layout()\n",
    "plt.show()"
   ]
  },
  {
   "cell_type": "code",
   "execution_count": null,
   "metadata": {
    "collapsed": false,
    "deletable": true,
    "editable": true
   },
   "outputs": [],
   "source": [
    "def abs_sobel_x_y_mag_dir(channel, sobel_kernel=3,\n",
    "           abs_sobel_x_thresh_min=30, abs_sobel_x_thresh_max=150,\n",
    "           abs_sobel_y_thresh_min=30, abs_sobel_y_thresh_max=150,\n",
    "           mag_thresh_min=20, mag_thresh_max=255,\n",
    "           dir_threshold_min=0.6, dir_threshold_max=1.3):\n",
    "    # Choose a Sobel kernel size\n",
    "    ksize = sobel_kernel # Choose a larger odd number to smooth gradient measurements\n",
    "\n",
    "    # Apply each of the thresholding functions\n",
    "    gradx = abs_sobel_thresh(channel, orient='x', sobel_kernel=ksize, abs_sobel_thresh_min=abs_sobel_x_thresh_min, abs_sobel_thresh_max=abs_sobel_x_thresh_max)\n",
    "    grady = abs_sobel_thresh(channel, orient='y', sobel_kernel=ksize, abs_sobel_thresh_min=abs_sobel_y_thresh_min, abs_sobel_thresh_max=abs_sobel_y_thresh_max)\n",
    "    mag_binary = mag_thresh(channel, sobel_kernel=ksize, mag_thresh_min=mag_thresh_min, mag_thresh_max=mag_thresh_max)\n",
    "    dir_binary = dir_threshold(channel, sobel_kernel=ksize, dir_thresh_min=dir_threshold_min, dir_thresh_max=dir_threshold_max)\n",
    "    \n",
    "    combined = np.zeros_like(dir_binary)\n",
    "    combined[((gradx == 1) & (grady == 1)) | ((mag_binary == 1) & (dir_binary == 1))] = 1\n",
    "\n",
    "    return combined\n",
    "    \n",
    "def update(sobel_kernel=3, \n",
    "           abs_sobel_x_thresh_min=30, abs_sobel_x_thresh_max=100,\n",
    "           abs_sobel_y_thresh_min=30, abs_sobel_y_thresh_max=100,\n",
    "           mag_thresh_min=30, mag_thresh_max=100,\n",
    "           dir_threshold_min=0.9, dir_threshold_max=1.3):\n",
    "    # Choose a Sobel kernel size\n",
    "    ksize = sobel_kernel # Choose a larger odd number to smooth gradient measurements\n",
    "\n",
    "    # Apply each of the thresholding functions\n",
    "    gradx = abs_sobel_thresh(channel, orient='x', sobel_kernel=ksize, abs_sobel_thresh_min=abs_sobel_x_thresh_min, abs_sobel_thresh_max=abs_sobel_x_thresh_max)\n",
    "    grady = abs_sobel_thresh(channel, orient='y', sobel_kernel=ksize, abs_sobel_thresh_min=abs_sobel_y_thresh_min, abs_sobel_thresh_max=abs_sobel_y_thresh_max)\n",
    "    mag_binary = mag_thresh(channel, sobel_kernel=ksize, mag_thresh_min=mag_thresh_min, mag_thresh_max=mag_thresh_max)\n",
    "    dir_binary = dir_threshold(channel, sobel_kernel=ksize, dir_thresh_min=dir_threshold_min, dir_thresh_max=dir_threshold_max)\n",
    "\n",
    "    combined_1 = np.zeros_like(dir_binary)\n",
    "\n",
    "    combined_1[((gradx == 1) & (grady == 1))] = 1\n",
    "    \n",
    "    combined_2 = np.zeros_like(dir_binary)\n",
    "    combined_2[((mag_binary == 1) & (dir_binary == 1))] = 1\n",
    "\n",
    "    combined = np.zeros_like(dir_binary)\n",
    "    combined[((gradx == 1) & (grady == 1)) | ((mag_binary == 1) & (dir_binary == 1))] = 1\n",
    "    \n",
    "    fig = plt.figure(figsize=(20, 12))\n",
    "    plt.subplot(131)\n",
    "    plt.imshow(gradx, cmap='gray')\n",
    "    plt.title('gradx')\n",
    "    plt.axis('off')\n",
    "    plt.subplot(132)\n",
    "    plt.imshow(grady, cmap='gray')\n",
    "    plt.title('grady')\n",
    "    plt.axis('off')\n",
    "    plt.subplot(133)\n",
    "    plt.imshow(mag_binary, cmap='gray')\n",
    "    plt.title('mag')\n",
    "    plt.axis('off')\n",
    "    fig.tight_layout()\n",
    "    plt.show()\n",
    "\n",
    "    fig=plt.figure(figsize=(20, 12))\n",
    "    plt.subplot(121)\n",
    "    plt.imshow(combined_1, cmap='gray')\n",
    "    plt.title('gradx & grady')\n",
    "    plt.axis('off')\n",
    "    plt.subplot(122)\n",
    "    plt.imshow(combined_2, cmap='gray')\n",
    "    plt.title('dir')\n",
    "    plt.axis('off')\n",
    "    fig.tight_layout()\n",
    "    plt.show()    \n",
    "\n",
    "    fig = plt.figure(figsize=(20, 12))\n",
    "    plt.imshow(combined, cmap='gray')\n",
    "    plt.title('grad & mag')\n",
    "    plt.axis('off')\n",
    "    fig.tight_layout()\n",
    "    plt.show()    \n",
    "    \n",
    "\n",
    "interact(update, sobel_kernel=(3, 19),abs_sobel_x_thresh_min=(0, 255), abs_sobel_x_thresh_max=(0, 255),\n",
    "                 abs_sobel_y_thresh_min=(0, 255), abs_sobel_y_thresh_max=(0, 255),\n",
    "                 mag_thresh_min=(0,255), mag_thresh_max=(0,255),\n",
    "                 dir_threshold_min=(0, np.pi/2), dir_threshold_max=(0, np.pi/2))"
   ]
  },
  {
   "cell_type": "code",
   "execution_count": null,
   "metadata": {
    "collapsed": false,
    "deletable": true,
    "editable": true,
    "scrolled": false
   },
   "outputs": [],
   "source": [
    "# mid = 1280/2\n",
    "# t1, b1 = 450, 700\n",
    "# t_tw = 90\n",
    "# t_bw = 820\n",
    "# t2, b2 = 10, 720\n",
    "# tw = 400\n",
    "\n",
    "# src = np.float32([[mid-t_tw, t1], [mid+t_tw, t1], [mid-t_bw, b1], [mid+t_bw, b1]])\n",
    "# dst = np.float32([[mid-tw, t2], [mid+tw, t2], [mid-tw, b2], [mid+tw, b2]])\n",
    "\n",
    "M = cv2.getPerspectiveTransform(src, dst)\n",
    "\n",
    "images = glob.glob('../test_images/*.jpg')\n",
    "for fname in images:\n",
    "    img = mpimg.imread(fname)\n",
    "\n",
    "    undist = cv2.undistort(img, mtx, dist, None, mtx)\n",
    "    \n",
    "    S = cv2.cvtColor(undist, cv2.COLOR_RGB2HLS)[:, :, 2]\n",
    "\n",
    "    thresh = (130, 255)\n",
    "    gray = np.zeros_like(S)\n",
    "    gray[(S > thresh[0]) & (S <= thresh[1])] = 1\n",
    "    \n",
    "    filtered = abs_sobel_x_y_mag_dir(gray)\n",
    "\n",
    "    warped = cv2.warpPerspective(filtered, M, (img.shape[1], img.shape[0]), flags=cv2.INTER_LINEAR)\n",
    "    \n",
    "    plt.figure(figsize=(16, 12))\n",
    "    plt.subplot(121)\n",
    "    plt.imshow(filtered, cmap='gray')\n",
    "    \n",
    "#     plt.plot(640, 420, 'o', mew=1)\n",
    "    \n",
    "#     plt.plot(mid-t_tw, t1, '^', mew=2)\n",
    "#     plt.plot(mid+t_tw, t1, 'v', mew=2)\n",
    "#     plt.plot(mid-t_bw, b1, 'x', mew=2)\n",
    "#     plt.plot(mid+t_bw, b1, 's', mew=2)\n",
    "\n",
    "#     plt.plot(mid-tw, t2, '^', mew=4)\n",
    "#     plt.plot(mid+tw, t2, 'v', mew=4)\n",
    "#     plt.plot(mid-tw, b2, 'x', mew=4)\n",
    "#     plt.plot(mid+tw, b2, 's', mew=4)\n",
    "    \n",
    "    plt.title('Before('+fname+')')\n",
    "    plt.subplot(122)\n",
    "    plt.imshow(warped, cmap='gray')\n",
    "    plt.title('Perspective transform')\n",
    "    plt.axis('off')\n",
    "    plt.show()"
   ]
  },
  {
   "cell_type": "code",
   "execution_count": null,
   "metadata": {
    "collapsed": true,
    "deletable": true,
    "editable": true
   },
   "outputs": [],
   "source": []
  }
 ],
 "metadata": {
  "anaconda-cloud": {},
  "kernelspec": {
   "display_name": "Python [conda env:IntroToTensorFlow]",
   "language": "python",
   "name": "conda-env-IntroToTensorFlow-py"
  },
  "language_info": {
   "codemirror_mode": {
    "name": "ipython",
    "version": 3
   },
   "file_extension": ".py",
   "mimetype": "text/x-python",
   "name": "python",
   "nbconvert_exporter": "python",
   "pygments_lexer": "ipython3",
   "version": "3.5.3"
  },
  "widgets": {
   "state": {
    "159d3784df11456182b520683c515c89": {
     "views": [
      {
       "cell_index": 7
      }
     ]
    },
    "ef0df53e5d714d14b425192429bdc96a": {
     "views": [
      {
       "cell_index": 12
      }
     ]
    }
   },
   "version": "1.2.0"
  }
 },
 "nbformat": 4,
 "nbformat_minor": 1
}
