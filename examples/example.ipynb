{
 "cells": [
  {
   "cell_type": "markdown",
   "metadata": {
    "deletable": true,
    "editable": true
   },
   "source": [
    "## Advanced Lane Finding Project\n",
    "\n",
    "The goals / steps of this project are the following:\n",
    "\n",
    "* Compute the camera calibration matrix and distortion coefficients given a set of chessboard images.\n",
    "* Apply a distortion correction to raw images.\n",
    "* Use color transforms, gradients, etc., to create a thresholded binary image.\n",
    "* Apply a perspective transform to rectify binary image (\"birds-eye view\").\n",
    "* Detect lane pixels and fit to find the lane boundary.\n",
    "* Determine the curvature of the lane and vehicle position with respect to center.\n",
    "* Warp the detected lane boundaries back onto the original image.\n",
    "* Output visual display of the lane boundaries and numerical estimation of lane curvature and vehicle position."
   ]
  },
  {
   "cell_type": "code",
   "execution_count": null,
   "metadata": {
    "collapsed": false,
    "deletable": true,
    "editable": true
   },
   "outputs": [],
   "source": [
    "from ipywidgets import interact, interactive, fixed\n",
    "from IPython.core.display import display, HTML\n",
    "display(HTML(\"<style>.container { width:100% !important; }</style>\"))"
   ]
  },
  {
   "cell_type": "code",
   "execution_count": null,
   "metadata": {
    "collapsed": false,
    "deletable": true,
    "editable": true
   },
   "outputs": [],
   "source": [
    "import numpy as np\n",
    "import os.path\n",
    "import cv2\n",
    "import glob\n",
    "import pickle\n",
    "import matplotlib.pyplot as plt\n",
    "import matplotlib.image as mpimg\n",
    "%matplotlib inline\n",
    "\n",
    "import sys\n",
    "sys.path.append('../')\n",
    "from utils import build_distort_p, load_distort_p, get_perspective_transform, s_filter, sobel_filter, combine_binaries, draw_result\n",
    "from showcase import show_calibration_result, show_perspective_transform_result, show_color_threshold_result, show_filtered_warped_image\n",
    "from poly import fit_poly, fit_poly_vis"
   ]
  },
  {
   "cell_type": "code",
   "execution_count": null,
   "metadata": {
    "collapsed": true,
    "deletable": true,
    "editable": true
   },
   "outputs": [],
   "source": [
    "DISTORT_P = 'distort.p'\n",
    "\n",
    "is_show_calibration_result = False\n",
    "is_show_perspective_transform_result = False\n",
    "is_show_color_threshold_result = False\n",
    "is_show_filtered_warped_image = False"
   ]
  },
  {
   "cell_type": "markdown",
   "metadata": {
    "deletable": true,
    "editable": true
   },
   "source": [
    "## First, I'll compute the camera calibration using chessboard images"
   ]
  },
  {
   "cell_type": "code",
   "execution_count": null,
   "metadata": {
    "collapsed": true,
    "deletable": true,
    "editable": true
   },
   "outputs": [],
   "source": [
    "if not os.path.isfile(DISTORT_P):\n",
    "    build_distort_p(DISTORT_P)\n",
    "\n",
    "mtx, dist = load_distort_p(DISTORT_P)"
   ]
  },
  {
   "cell_type": "code",
   "execution_count": null,
   "metadata": {
    "collapsed": false,
    "deletable": true,
    "editable": true,
    "scrolled": false
   },
   "outputs": [],
   "source": [
    "if is_show_calibration_result:\n",
    "    show_calibration_result(mtx, dist)"
   ]
  },
  {
   "cell_type": "markdown",
   "metadata": {
    "deletable": true,
    "editable": true
   },
   "source": [
    "## Decide the perspective tranform matrix"
   ]
  },
  {
   "cell_type": "code",
   "execution_count": null,
   "metadata": {
    "collapsed": true,
    "deletable": true,
    "editable": true
   },
   "outputs": [],
   "source": [
    "M, Minv = get_perspective_transform()"
   ]
  },
  {
   "cell_type": "code",
   "execution_count": null,
   "metadata": {
    "collapsed": false,
    "deletable": true,
    "editable": true,
    "scrolled": false
   },
   "outputs": [],
   "source": [
    "if is_show_perspective_transform_result:\n",
    "    show_perspective_transform_result(mtx, dist, M)"
   ]
  },
  {
   "cell_type": "markdown",
   "metadata": {
    "deletable": true,
    "editable": true
   },
   "source": [
    "## Use color transforms, gradients, etc., to create a thresholded binary image\n",
    "\n",
    "1. Color space (Gray, HLS, YUV, HSV)\n",
    "2. Sobel\n",
    "3. Magnitude of the Gradient\n"
   ]
  },
  {
   "cell_type": "code",
   "execution_count": null,
   "metadata": {
    "collapsed": false,
    "deletable": true,
    "editable": true
   },
   "outputs": [],
   "source": [
    "if is_show_color_threshold_result:\n",
    "    show_color_threshold_result(mtx, dist, M)"
   ]
  },
  {
   "cell_type": "code",
   "execution_count": null,
   "metadata": {
    "collapsed": false,
    "deletable": true,
    "editable": true
   },
   "outputs": [],
   "source": [
    "if is_show_filtered_warped_image:\n",
    "    show_filtered_warped_image(mtx, dist, M)"
   ]
  },
  {
   "cell_type": "code",
   "execution_count": null,
   "metadata": {
    "collapsed": false,
    "deletable": true,
    "editable": true,
    "scrolled": false
   },
   "outputs": [],
   "source": [
    "images = glob.glob('../test_images/*.jpg')\n",
    "\n",
    "for fname in images:\n",
    "    img = mpimg.imread(fname)\n",
    "\n",
    "    undist = cv2.undistort(img, mtx, dist, None, mtx)\n",
    "\n",
    "    s_binary = s_filter(undist)\n",
    "    sxbinary = sobel_filter(undist)\n",
    "    combined_binary = combine_binaries(s_binary, sxbinary)\n",
    "\n",
    "    binary_warped = cv2.warpPerspective(combined_binary, M, (combined_binary.shape[1], combined_binary.shape[0]), flags=cv2.INTER_LINEAR)\n",
    "\n",
    "    left_fit, right_fit = fit_poly(binary_warped)\n",
    "    \n",
    "    fit_poly_vis(binary_warped, left_fit, right_fit)\n",
    "\n",
    "#     print(left_fit, right_fit)\n",
    "    \n",
    "#     fig = plt.figure(figsize=(20, 12))\n",
    "\n",
    "#     plt.subplot(121)\n",
    "#     plt.imshow(combined_binary, cmap='gray')\n",
    "#     plt.title('combined ('+fname+')')\n",
    "\n",
    "#     plt.subplot(122)\n",
    "#     plt.imshow(warped, cmap='gray')\n",
    "#     plt.title('warped')\n",
    "\n",
    "#     plt.axis('off')\n",
    "#     fig.tight_layout()\n",
    "#     plt.show()"
   ]
  },
  {
   "cell_type": "code",
   "execution_count": null,
   "metadata": {
    "collapsed": false,
    "deletable": true,
    "editable": true
   },
   "outputs": [],
   "source": [
    "import imageio\n",
    "imageio.plugins.ffmpeg.download()"
   ]
  },
  {
   "cell_type": "code",
   "execution_count": null,
   "metadata": {
    "collapsed": true,
    "deletable": true,
    "editable": true
   },
   "outputs": [],
   "source": [
    "from moviepy.editor import VideoFileClip\n",
    "from IPython.display import HTML"
   ]
  },
  {
   "cell_type": "code",
   "execution_count": null,
   "metadata": {
    "collapsed": true
   },
   "outputs": [],
   "source": [
    "# Define global variables here"
   ]
  },
  {
   "cell_type": "code",
   "execution_count": null,
   "metadata": {
    "collapsed": true,
    "deletable": true,
    "editable": true
   },
   "outputs": [],
   "source": [
    "def process_image(image):\n",
    "    undist = cv2.undistort(image, mtx, dist, None, mtx)\n",
    "\n",
    "    s_binary = s_filter(undist)\n",
    "    sxbinary = sobel_filter(undist)\n",
    "    combined_binary = combine_binaries(s_binary, sxbinary)\n",
    "\n",
    "    binary_warped = cv2.warpPerspective(combined_binary, M, (combined_binary.shape[1], combined_binary.shape[0]), flags=cv2.INTER_LINEAR)\n",
    "\n",
    "    left_fit, right_fit = fit_poly(binary_warped)\n",
    "\n",
    "    overlay_img = draw_result(undist, binary_warped, left_fit, right_fit, Minv)\n",
    "\n",
    "    font = cv2.FONT_HERSHEY_SIMPLEX\n",
    "    cv2.putText(overlay_img,'Radius of Curvature = 744(m)',(20,60), font, 2, (255,255,255),2,cv2.LINE_AA)\n",
    "    cv2.putText(overlay_img,'Vehicle is 0.21m left of center',(20,120), font, 2, (255,255,255),2,cv2.LINE_AA)\n",
    "    \n",
    "    return overlay_img"
   ]
  },
  {
   "cell_type": "code",
   "execution_count": null,
   "metadata": {
    "collapsed": false
   },
   "outputs": [],
   "source": [
    "output = 'output.mp4'\n",
    "clip1 = VideoFileClip('../project_video.mp4')\n",
    "clip = clip1.fl_image(process_image)\n",
    "%time clip.write_videofile(output, audio=False)"
   ]
  },
  {
   "cell_type": "code",
   "execution_count": null,
   "metadata": {
    "collapsed": false
   },
   "outputs": [],
   "source": [
    "HTML(\"\"\"\n",
    "<video width=\"960\" height=\"540\" controls>\n",
    "  <source src=\"{0}\">\n",
    "</video>\n",
    "\"\"\".format(output))"
   ]
  },
  {
   "cell_type": "code",
   "execution_count": null,
   "metadata": {
    "collapsed": true
   },
   "outputs": [],
   "source": []
  }
 ],
 "metadata": {
  "anaconda-cloud": {},
  "kernelspec": {
   "display_name": "Python [default]",
   "language": "python",
   "name": "python3"
  },
  "language_info": {
   "codemirror_mode": {
    "name": "ipython",
    "version": 3
   },
   "file_extension": ".py",
   "mimetype": "text/x-python",
   "name": "python",
   "nbconvert_exporter": "python",
   "pygments_lexer": "ipython3",
   "version": "3.5.3"
  }
 },
 "nbformat": 4,
 "nbformat_minor": 1
}
