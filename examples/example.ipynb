{
 "cells": [
  {
   "cell_type": "markdown",
   "metadata": {
    "deletable": true,
    "editable": true
   },
   "source": [
    "## Advanced Lane Finding Project\n",
    "\n",
    "The goals / steps of this project are the following:\n",
    "\n",
    "* Compute the camera calibration matrix and distortion coefficients given a set of chessboard images.\n",
    "* Apply a distortion correction to raw images.\n",
    "* Use color transforms, gradients, etc., to create a thresholded binary image.\n",
    "* Apply a perspective transform to rectify binary image (\"birds-eye view\").\n",
    "* Detect lane pixels and fit to find the lane boundary.\n",
    "* Determine the curvature of the lane and vehicle position with respect to center.\n",
    "* Warp the detected lane boundaries back onto the original image.\n",
    "* Output visual display of the lane boundaries and numerical estimation of lane curvature and vehicle position."
   ]
  },
  {
   "cell_type": "code",
   "execution_count": null,
   "metadata": {
    "collapsed": false,
    "deletable": true,
    "editable": true
   },
   "outputs": [],
   "source": [
    "from ipywidgets import interact, interactive, fixed\n",
    "from IPython.core.display import display, HTML\n",
    "display(HTML(\"<style>.container { width:100% !important; }</style>\"))"
   ]
  },
  {
   "cell_type": "code",
   "execution_count": null,
   "metadata": {
    "collapsed": false,
    "deletable": true,
    "editable": true
   },
   "outputs": [],
   "source": [
    "import numpy as np\n",
    "import os.path\n",
    "import cv2\n",
    "import glob\n",
    "import pickle\n",
    "import matplotlib.pyplot as plt\n",
    "import matplotlib.image as mpimg\n",
    "%matplotlib inline\n",
    "\n",
    "import sys\n",
    "sys.path.append('../')\n",
    "from utils import build_distort_p, load_distort_p, get_perspective_transform, s_filter, sobel_filter, combine_binaries, draw_result\n",
    "from showcase import show_calibration_result, show_perspective_transform_result, show_color_threshold_result, show_filtered_warped_image\n",
    "from poly import fit_poly\n",
    "from line import Line"
   ]
  },
  {
   "cell_type": "code",
   "execution_count": null,
   "metadata": {
    "collapsed": true,
    "deletable": true,
    "editable": true
   },
   "outputs": [],
   "source": [
    "DISTORT_P = 'distort.p'\n",
    "\n",
    "is_show_calibration_result = False\n",
    "is_show_perspective_transform_result = False\n",
    "is_show_color_threshold_result = False\n",
    "is_show_filtered_warped_image = True"
   ]
  },
  {
   "cell_type": "markdown",
   "metadata": {
    "deletable": true,
    "editable": true
   },
   "source": [
    "## First, I'll compute the camera calibration using chessboard images"
   ]
  },
  {
   "cell_type": "code",
   "execution_count": null,
   "metadata": {
    "collapsed": true,
    "deletable": true,
    "editable": true
   },
   "outputs": [],
   "source": [
    "if not os.path.isfile(DISTORT_P):\n",
    "    build_distort_p(DISTORT_P)\n",
    "\n",
    "mtx, dist = load_distort_p(DISTORT_P)"
   ]
  },
  {
   "cell_type": "code",
   "execution_count": null,
   "metadata": {
    "collapsed": false,
    "deletable": true,
    "editable": true,
    "scrolled": false
   },
   "outputs": [],
   "source": [
    "if is_show_calibration_result:\n",
    "    show_calibration_result(mtx, dist)"
   ]
  },
  {
   "cell_type": "markdown",
   "metadata": {
    "deletable": true,
    "editable": true
   },
   "source": [
    "## Decide the perspective tranform matrix"
   ]
  },
  {
   "cell_type": "code",
   "execution_count": null,
   "metadata": {
    "collapsed": true,
    "deletable": true,
    "editable": true
   },
   "outputs": [],
   "source": [
    "M, Minv = get_perspective_transform()"
   ]
  },
  {
   "cell_type": "code",
   "execution_count": null,
   "metadata": {
    "collapsed": false,
    "deletable": true,
    "editable": true,
    "scrolled": false
   },
   "outputs": [],
   "source": [
    "if is_show_perspective_transform_result:\n",
    "    show_perspective_transform_result(mtx, dist, M)"
   ]
  },
  {
   "cell_type": "markdown",
   "metadata": {
    "deletable": true,
    "editable": true
   },
   "source": [
    "## Use color transforms, gradients, etc., to create a thresholded binary image\n",
    "\n",
    "1. Color space (Gray, HLS, YUV, HSV)\n",
    "2. Sobel\n",
    "3. Magnitude of the Gradient\n"
   ]
  },
  {
   "cell_type": "code",
   "execution_count": null,
   "metadata": {
    "collapsed": false,
    "deletable": true,
    "editable": true
   },
   "outputs": [],
   "source": [
    "if is_show_color_threshold_result:\n",
    "    show_color_threshold_result(mtx, dist, M)"
   ]
  },
  {
   "cell_type": "code",
   "execution_count": null,
   "metadata": {
    "collapsed": false,
    "deletable": true,
    "editable": true
   },
   "outputs": [],
   "source": [
    "if is_show_filtered_warped_image:\n",
    "    show_filtered_warped_image(mtx, dist, M)"
   ]
  },
  {
   "cell_type": "markdown",
   "metadata": {
    "deletable": true,
    "editable": true
   },
   "source": [
    "## Test filters"
   ]
  },
  {
   "cell_type": "code",
   "execution_count": null,
   "metadata": {
    "collapsed": true,
    "deletable": true,
    "editable": true
   },
   "outputs": [],
   "source": [
    "lanelines = [Line(), Line()]"
   ]
  },
  {
   "cell_type": "code",
   "execution_count": null,
   "metadata": {
    "collapsed": false,
    "deletable": true,
    "editable": true,
    "scrolled": false
   },
   "outputs": [],
   "source": [
    "images = glob.glob('../project_frames/frame054*.jpg')\n",
    "\n",
    "for file in images:\n",
    "    img = cv2.imread(file)\n",
    "    img = cv2.cvtColor(img, cv2.COLOR_BGR2RGB)\n",
    "    \n",
    "    undist = cv2.undistort(img, mtx, dist, None, mtx)\n",
    "    \n",
    "    s_binary = s_filter(undist)\n",
    "    sxbinary = sobel_filter(undist)\n",
    "    combined_binary = combine_binaries(s_binary, sxbinary)\n",
    "\n",
    "    binary_warped = cv2.warpPerspective(combined_binary, M, (combined_binary.shape[1], combined_binary.shape[0]), flags=cv2.INTER_LINEAR)\n",
    "    color_warp = np.zeros_like(img)\n",
    "\n",
    "    fit_poly(binary_warped, lanelines)\n",
    "        \n",
    "    # Coloring the warped image\n",
    "    color_warp[lanelines[0].ally, lanelines[0].allx] = [255, 0, 0] # Left lane\n",
    "    color_warp[lanelines[1].ally, lanelines[1].allx] = [0, 0, 255] # Right lane\n",
    "\n",
    "    ploty = np.linspace(0, binary_warped.shape[0]-1, binary_warped.shape[0] )\n",
    "    # Recast the x and y points into usable format for cv2.fillPoly()\n",
    "    \n",
    "    pts_left = np.array([np.transpose(np.vstack([lanelines[0].recent_xfitted, ploty]))])\n",
    "    pts_right = np.array([np.flipud(np.transpose(np.vstack([lanelines[1].recent_xfitted, ploty])))])\n",
    "    pts = np.hstack((pts_left, pts_right))\n",
    "\n",
    "    # Draw the lane onto the warped blank image\n",
    "    cv2.fillPoly(color_warp, np.int_([pts]), (0,255, 0))\n",
    "\n",
    "    # Warp the blank back to original image space using inverse perspective matrix (Minv)\n",
    "    newwarp = cv2.warpPerspective(color_warp, Minv, (img.shape[1], img.shape[0])) \n",
    "    # Combine the result with the original image\n",
    "    result = cv2.addWeighted(undist, 1, newwarp, 0.3, 0)\n",
    "    \n",
    "    # Apply Minv to untransform the colored image\n",
    "    newwarp = cv2.warpPerspective(color_warp, Minv, (img.shape[1], img.shape[0])) \n",
    "\n",
    "    overlay_img = cv2.addWeighted(undist, 1, newwarp, 0.3, 0)\n",
    "    \n",
    "    plt.figure(figsize=(20, 20))\n",
    "    plt.subplot(321)\n",
    "    plt.imshow(combined_binary, cmap='gray')\n",
    "    plt.title(file)\n",
    "    plt.subplot(322)\n",
    "    plt.imshow(binary_warped, cmap='gray')\n",
    "    plt.subplot(323)\n",
    "    plt.imshow(color_warp)\n",
    "    plt.subplot(324)\n",
    "    plt.imshow(newwarp)\n",
    "    plt.subplot(325)\n",
    "    plt.imshow(overlay_img)\n",
    "    \n",
    "    plt.show()"
   ]
  },
  {
   "cell_type": "markdown",
   "metadata": {
    "deletable": true,
    "editable": true
   },
   "source": [
    "## Process video"
   ]
  },
  {
   "cell_type": "code",
   "execution_count": null,
   "metadata": {
    "collapsed": false,
    "deletable": true,
    "editable": true
   },
   "outputs": [],
   "source": [
    "import imageio\n",
    "imageio.plugins.ffmpeg.download()"
   ]
  },
  {
   "cell_type": "code",
   "execution_count": null,
   "metadata": {
    "collapsed": true,
    "deletable": true,
    "editable": true
   },
   "outputs": [],
   "source": [
    "from moviepy.editor import VideoFileClip\n",
    "from IPython.display import HTML"
   ]
  },
  {
   "cell_type": "code",
   "execution_count": null,
   "metadata": {
    "collapsed": true,
    "deletable": true,
    "editable": true
   },
   "outputs": [],
   "source": [
    "# Define global variables here\n",
    "lanelines = [Line(), Line()]"
   ]
  },
  {
   "cell_type": "code",
   "execution_count": null,
   "metadata": {
    "collapsed": false,
    "deletable": true,
    "editable": true
   },
   "outputs": [],
   "source": [
    "def process_image(image):\n",
    "\n",
    "    undist = cv2.undistort(image, mtx, dist, None, mtx)\n",
    "\n",
    "    # Make lane lines obvious\n",
    "    s_binary = s_filter(undist)\n",
    "    sxbinary = sobel_filter(undist)\n",
    "    combined_binary = combine_binaries(s_binary, sxbinary)\n",
    "\n",
    "    # Perspective transform to bird view\n",
    "    binary_warped = cv2.warpPerspective(combined_binary, M, (combined_binary.shape[1], combined_binary.shape[0]), flags=cv2.INTER_LINEAR)\n",
    "    color_warp = np.zeros_like(img)\n",
    "\n",
    "    # Get polynomial coefficients for left/right lanes\n",
    "    fit_poly(binary_warped, lanelines)\n",
    "        \n",
    "    # Coloring the warped image\n",
    "    color_warp[lanelines[0].ally, lanelines[0].allx] = [255, 0, 0] # Left lane\n",
    "    color_warp[lanelines[1].ally, lanelines[1].allx] = [0, 0, 255] # Right lane\n",
    "\n",
    "    ploty = np.linspace(0, binary_warped.shape[0]-1, binary_warped.shape[0] )\n",
    "    # Recast the x and y points into usable format for cv2.fillPoly()    \n",
    "    pts_left = np.array([np.transpose(np.vstack([lanelines[0].recent_xfitted, ploty]))])\n",
    "    pts_right = np.array([np.flipud(np.transpose(np.vstack([lanelines[1].recent_xfitted, ploty])))])\n",
    "    pts = np.hstack((pts_left, pts_right))\n",
    "\n",
    "    # Draw the lane onto the warped blank image\n",
    "    cv2.fillPoly(color_warp, np.int_([pts]), (0,255, 0))\n",
    "\n",
    "    # Apply Minv to untransform the colored image\n",
    "    newwarp = cv2.warpPerspective(color_warp, Minv, (image.shape[1], image.shape[0])) \n",
    "    \n",
    "    # Merge two images\n",
    "    overlay_img = cv2.addWeighted(undist, 1, newwarp, 0.3, 0)\n",
    "\n",
    "    # Add text info\n",
    "    font = cv2.FONT_HERSHEY_SIMPLEX\n",
    "    cv2.putText(overlay_img,'Radius of Curvature = %d(m)' % lanelines[0].radius_of_curvature,(20,60), font, 2, (255,255,255),2,cv2.LINE_AA)\n",
    "    mid = (lanelines[0].line_base_pos + lanelines[1].line_base_pos)/2.0\n",
    "    if lanelines[0].line_base_pos >= lanelines[1].line_base_pos:\n",
    "        cv2.putText(overlay_img,'Vehicle is %2.2fm right of center' % (lanelines[0].line_base_pos-mid),(20,120), font, 2, (255,255,255),2,cv2.LINE_AA)\n",
    "    else:\n",
    "        cv2.putText(overlay_img,'Vehicle is %2.2fm left of center' % (lanelines[1].line_base_pos-mid),(20,120), font, 2, (255,255,255),2,cv2.LINE_AA)\n",
    "    \n",
    "    return overlay_img"
   ]
  },
  {
   "cell_type": "code",
   "execution_count": null,
   "metadata": {
    "collapsed": true,
    "deletable": true,
    "editable": true
   },
   "outputs": [],
   "source": [
    "cur_frame = 0\n",
    "def save_image(image):\n",
    "    global cur_frame\n",
    "    if cur_frame % 12 == 0:\n",
    "        img = cv2.cvtColor(image, cv2.COLOR_RGB2BGR)\n",
    "        cv2.imwrite('frame%04d.jpg' % cur_frame, img)\n",
    "    cur_frame += 1\n",
    "    return image"
   ]
  },
  {
   "cell_type": "code",
   "execution_count": null,
   "metadata": {
    "collapsed": false,
    "deletable": true,
    "editable": true,
    "scrolled": false
   },
   "outputs": [],
   "source": [
    "output = '../output_images/output.mp4'\n",
    "clip1 = VideoFileClip('../project_video.mp4')\n",
    "clip = clip1.fl_image(process_image)\n",
    "%time clip.write_videofile(output, audio=False)"
   ]
  },
  {
   "cell_type": "code",
   "execution_count": null,
   "metadata": {
    "collapsed": false,
    "deletable": true,
    "editable": true
   },
   "outputs": [],
   "source": [
    "HTML(\"\"\"\n",
    "<video width=\"960\" height=\"540\" controls>\n",
    "  <source src=\"{0}\">\n",
    "</video>\n",
    "\"\"\".format(output))"
   ]
  }
 ],
 "metadata": {
  "anaconda-cloud": {},
  "kernelspec": {
   "display_name": "Python [default]",
   "language": "python",
   "name": "python3"
  },
  "language_info": {
   "codemirror_mode": {
    "name": "ipython",
    "version": 3
   },
   "file_extension": ".py",
   "mimetype": "text/x-python",
   "name": "python",
   "nbconvert_exporter": "python",
   "pygments_lexer": "ipython3",
   "version": "3.5.3"
  }
 },
 "nbformat": 4,
 "nbformat_minor": 1
}
